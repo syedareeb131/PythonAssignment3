{
 "cells": [
  {
   "cell_type": "code",
   "execution_count": 27,
   "id": "bd7e9e97",
   "metadata": {},
   "outputs": [
    {
     "name": "stdout",
     "output_type": "stream",
     "text": [
      "Twinkle,twinkle,little star,\n",
      "        How i wonder what you are! \n",
      "               Up Above the world so high, \n",
      "               like a diamond in the sky.\n",
      "Twinkle,twinkle,little star, \n",
      "        How I wonder what you are \n"
     ]
    }
   ],
   "source": [
    "#1\n",
    "Poem = (\"Twinkle,twinkle,little star,\\n        How i wonder what you are! \\n               Up Above the world so high, \\n               like a diamond in the sky.\\nTwinkle,twinkle,little star, \\n        How I wonder what you are \");\n",
    "print(Poem);\n",
    "\n"
   ]
  },
  {
   "cell_type": "code",
   "execution_count": 25,
   "id": "33e7f16a",
   "metadata": {},
   "outputs": [
    {
     "name": "stdout",
     "output_type": "stream",
     "text": [
      "python version\n",
      "3.8.8 (default, Apr 13 2021, 15:08:03) [MSC v.1916 64 bit (AMD64)]\n",
      "python info\n",
      "sys.version_info(major=3, minor=8, micro=8, releaselevel='final', serial=0)\n"
     ]
    }
   ],
   "source": [
    "#2\n",
    "import sys \n",
    "print(\"python version\");\n",
    "print(sys.version);\n",
    "print(\"python info\");\n",
    "print(sys.version_info)"
   ]
  },
  {
   "cell_type": "code",
   "execution_count": 28,
   "id": "1c0d32e7",
   "metadata": {
    "scrolled": false
   },
   "outputs": [
    {
     "name": "stdout",
     "output_type": "stream",
     "text": [
      "current date and time is:\n",
      "21-10-23  02:14:53\n"
     ]
    }
   ],
   "source": [
    "#3\n",
    "import datetime\n",
    "\n",
    "now = datetime.datetime.now();\n",
    "print(\"current date and time is:\");\n",
    "print(now.strftime(\"%y-%m-%d  %H:%M:%S\"))"
   ]
  },
  {
   "cell_type": "code",
   "execution_count": 1,
   "id": "892482b1",
   "metadata": {},
   "outputs": [
    {
     "name": "stdout",
     "output_type": "stream",
     "text": [
      "Enter the radius of the circle :77\n",
      "Area of the Circle is  18626.502843133883\n"
     ]
    }
   ],
   "source": [
    "#4\n",
    "import math\n",
    "radius = float(input(\"Enter the radius of the circle :\"));\n",
    "area = math.pi*radius*radius\n",
    "print(\"Area of the Circle is \",area);"
   ]
  },
  {
   "cell_type": "code",
   "execution_count": null,
   "id": "15699cb3",
   "metadata": {},
   "outputs": [],
   "source": [
    "#5\n",
    "firstname = input(\"input your first name:\");\n",
    "lastname = input(\"input your last name:\");\n",
    "print(\"Hello:\"+\" \"+lastname+\" \"+firstname);"
   ]
  },
  {
   "cell_type": "code",
   "execution_count": 6,
   "id": "f7aec578",
   "metadata": {},
   "outputs": [
    {
     "name": "stdout",
     "output_type": "stream",
     "text": [
      "Enter Number 1 :18\n",
      "Enter Number 2 :22\n",
      "18  +  22  =  40\n"
     ]
    }
   ],
   "source": [
    "#6\n",
    "num1 = int(input(\"Enter Number 1 :\"));\n",
    "num2 = int(input(\"Enter Number 2 :\"));\n",
    "result = num1 + num2;\n",
    "print(num1,\" + \",num2,\" = \",result);"
   ]
  },
  {
   "cell_type": "code",
   "execution_count": 1,
   "id": "8f73cf36",
   "metadata": {},
   "outputs": [
    {
     "name": "stdout",
     "output_type": "stream",
     "text": [
      "Enter marks for Urdu :45\n",
      "Enter marks for English :50\n",
      "Enter marks for Math :46085\n",
      "Enter marks for Physics :45\n",
      "Enter marks for Computer :42\n",
      "Total marks : 46267\n",
      "Percentage : 9253.4\n",
      "Grade : A+\n"
     ]
    }
   ],
   "source": [
    "#7\n",
    "Urdu = int(input(\"Enter marks for Urdu :\"));\n",
    "English = int(input(\"Enter marks for English :\"));\n",
    "Math = int(input(\"Enter marks for Math :\"));\n",
    "Physics = int(input(\"Enter marks for Physics :\"));\n",
    "Computer = int(input(\"Enter marks for Computer :\"));\n",
    "\n",
    "total = Urdu+English+Math+Physics+Computer;\n",
    "percentage = total/5;\n",
    "\n",
    "if percentage>=85:\n",
    "    grade='A+';\n",
    "elif percentage>= 70:\n",
    "    grade='A';\n",
    "elif percentage>=60:\n",
    "    grade='B';\n",
    "elif percentage >=50:\n",
    "    grade='C';\n",
    "elif percentage>=40:\n",
    "    grade='D';\n",
    "elif percentage>=33:\n",
    "    grade='E';\n",
    "else:grade='FAIL';\n",
    "    \n",
    "print(\"Total marks :\",total);   \n",
    "print(\"Percentage :\",percentage);\n",
    "print(\"Grade :\",grade);\n",
    "\n"
   ]
  },
  {
   "cell_type": "code",
   "execution_count": null,
   "id": "d7af7b2c",
   "metadata": {},
   "outputs": [],
   "source": [
    "#8\n",
    "number = int(input('Enter an Integer Number'));\n",
    "remainder = number % 2;\n",
    "if (remainder == 0):\n",
    "    print(number,\"is an even number\");\n",
    "else:\n",
    "    print(number,\"is an odd number\");"
   ]
  },
  {
   "cell_type": "code",
   "execution_count": null,
   "id": "8351470a",
   "metadata": {},
   "outputs": [],
   "source": [
    "#9\n",
    "mylist = [7,5,95, \"Syed\",\"Areeb\",\"Ali\", 88,90];\n",
    "print(mylist);\n",
    "print(\"Length Of List is:\",len(mylist));"
   ]
  },
  {
   "cell_type": "code",
   "execution_count": 8,
   "id": "9d27fe65",
   "metadata": {},
   "outputs": [
    {
     "name": "stdout",
     "output_type": "stream",
     "text": [
      "sum of all elements in given list: 1095\n"
     ]
    }
   ],
   "source": [
    "#10\n",
    "mylist = [3,0,4,0,88,1000];\n",
    "total=sum(mylist);\n",
    "print(\"sum of all elements in given list:\", total);"
   ]
  },
  {
   "cell_type": "code",
   "execution_count": 11,
   "id": "7cae653c",
   "metadata": {},
   "outputs": [
    {
     "name": "stdout",
     "output_type": "stream",
     "text": [
      "Smallest element is : 6\n",
      "largest element is : 110\n"
     ]
    }
   ],
   "source": [
    "#11\n",
    "mylist = [20,77,100,110,33,6,22,90]\n",
    "print(\"Smallest element is :\",min(mylist));\n",
    "print(\"largest element is :\",max(mylist));"
   ]
  },
  {
   "cell_type": "code",
   "execution_count": 12,
   "id": "30f8b01d",
   "metadata": {},
   "outputs": [
    {
     "name": "stdout",
     "output_type": "stream",
     "text": [
      "[1]\n",
      "[1, 1]\n",
      "[1, 1, 2]\n",
      "[1, 1, 2, 3]\n"
     ]
    }
   ],
   "source": [
    "#12\n",
    "a=[1,1,2,3,5,8,13,21,34,55,89];\n",
    "lst=[]\n",
    "for i in a:\n",
    "    if i<5:\n",
    "        lst.append(i);\n",
    "        print(lst);"
   ]
  },
  {
   "cell_type": "code",
   "execution_count": null,
   "id": "6be84b16",
   "metadata": {},
   "outputs": [],
   "source": []
  }
 ],
 "metadata": {
  "kernelspec": {
   "display_name": "Python 3",
   "language": "python",
   "name": "python3"
  },
  "language_info": {
   "codemirror_mode": {
    "name": "ipython",
    "version": 3
   },
   "file_extension": ".py",
   "mimetype": "text/x-python",
   "name": "python",
   "nbconvert_exporter": "python",
   "pygments_lexer": "ipython3",
   "version": "3.8.8"
  }
 },
 "nbformat": 4,
 "nbformat_minor": 5
}
